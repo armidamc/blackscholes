{
 "cells": [
  {
   "cell_type": "code",
   "execution_count": 14,
   "id": "4106dab2",
   "metadata": {},
   "outputs": [],
   "source": [
    "import datetime as dt\n",
    "import pandas as pd\n",
    "import numpy as np\n",
    "import pandas_datareader as pdr\n",
    "import yfinance as yf\n",
    "import time\n",
    "import quandl\n",
    "\n",
    "\n",
    "import math\n",
    "import numpy as np\n",
    "from scipy.integrate import quad"
   ]
  },
  {
   "cell_type": "code",
   "execution_count": null,
   "id": "91807a35",
   "metadata": {},
   "outputs": [],
   "source": []
  },
  {
   "cell_type": "code",
   "execution_count": 15,
   "id": "e7c65108",
   "metadata": {},
   "outputs": [],
   "source": [
    "QUANDL_KEY = \"4367546755jh46456838\" "
   ]
  },
  {
   "cell_type": "code",
   "execution_count": 16,
   "id": "57ae8c40",
   "metadata": {},
   "outputs": [],
   "source": [
    "### Mathematical Structure\n",
    "\n",
    "def dN(x): \n",
    "    '''Probability density function of Standard normal random variable x.'''\n",
    "    return math.exp(-0.5 * x ** 2) / math.sqrt(2 * math.pi)\n",
    "def N(d):\n",
    "    '''Cumulative density function of Standard normal random variable x.'''\n",
    "    return quad(lambda x: dN(x), -20, d, limit=50)[0]\n",
    "def d1f(S_0, K, t, T, r, sigma):\n",
    "    '''Black-Scholes-Merton d1 function.\n",
    "    Parameters see e.g. bsm_call_value function.'''\n",
    "    d1 = (math.log(S_0 / K) + (r + 0.5 * sigma ** 2)\n",
    "          * (T - t)) / (sigma * math.sqrt(T-t))\n",
    "    return d1\n",
    "\n",
    "def bsm_call_value(S_0, K, t, T, r, sigma):\n",
    "    d1 = d1f(S_0, K, t, T, r, sigma)\n",
    "    d2 = d1 - sigma * math.sqrt(T - t)\n",
    "    call_value = S_0 * N(d1) - math.exp(-r * (T - t)) * K * N(d2)\n",
    "    return call_value\n",
    "    \n",
    "def bsm_put_value(S_0, k, t, T, r, sigma):\n",
    "    d1 = d1f(S_0, K, t, T, r, sigma)\n",
    "    d2 = d1 - sigma * math.sqrt(T - t)\n",
    "    call_value = S_0 * N(d1) + math.exp(-r * (T - t)) * K * N(d2)\n",
    "    return call_value"
   ]
  },
  {
   "cell_type": "code",
   "execution_count": 27,
   "id": "6a3b3a00",
   "metadata": {},
   "outputs": [
    {
     "name": "stdout",
     "output_type": "stream",
     "text": [
      "Reading data for...AAPL, PRICE 140.52\n",
      "140.52000427246094\n",
      "26\n"
     ]
    }
   ],
   "source": [
    "#select ticker\n",
    "\n",
    "ticker = 'AAPL'\n",
    "\n",
    "# close cata retreival\n",
    "\n",
    "now = dt.datetime.now()\n",
    "startyear = 2021\n",
    "startmonth = 1\n",
    "startday = 1\n",
    "start = dt.datetime(startyear, startmonth, startday)\n",
    "df = pdr.get_data_yahoo(ticker,start, now)\n",
    "#print(df)\n",
    "\n",
    "# calculation\n",
    "S_0 = df['Adj Close'][-1]\n",
    "df.rename(columns={'Adj Close':'adj_close'}, inplace=True)\n",
    "print(f'Reading data for...{ticker}, PRICE {S_0:.2f}')\n",
    "\n",
    "print(S_0)\n",
    "\n",
    "## if valuation will be in the future\n",
    "t = abs(now.day)\n",
    "print(t)\n",
    "exit()\n",
    "\n",
    "# other data we would like to see could come from here\n",
    "df['simple_rtn'] = df.adj_close.pct_change()\n",
    "df['log_rtn'] = np.log(df.adj_close/df.adj_close.shift(1))*100"
   ]
  },
  {
   "cell_type": "code",
   "execution_count": null,
   "id": "8bc6be11",
   "metadata": {},
   "outputs": [],
   "source": []
  },
  {
   "cell_type": "code",
   "execution_count": null,
   "id": "e0f0780d",
   "metadata": {},
   "outputs": [],
   "source": []
  },
  {
   "cell_type": "code",
   "execution_count": null,
   "id": "d6997b30",
   "metadata": {},
   "outputs": [],
   "source": []
  }
 ],
 "metadata": {
  "kernelspec": {
   "display_name": "Python 3 (ipykernel)",
   "language": "python",
   "name": "python3"
  },
  "language_info": {
   "codemirror_mode": {
    "name": "ipython",
    "version": 3
   },
   "file_extension": ".py",
   "mimetype": "text/x-python",
   "name": "python",
   "nbconvert_exporter": "python",
   "pygments_lexer": "ipython3",
   "version": "3.8.8"
  }
 },
 "nbformat": 4,
 "nbformat_minor": 5
}
